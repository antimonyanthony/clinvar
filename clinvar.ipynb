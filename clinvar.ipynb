{
  "cells": [
    {
      "metadata": {
        "trusted": true,
        "_uuid": "fe704a729f8b67fccb66304f53a77a20fcc6be34",
        "scrolled": true,
        "collapsed": true
      },
      "cell_type": "markdown",
      "source": "Welcome to my kernel for the prediction of conflicts in classification of genetic variants! I'm relatively new to data science, so I welcome any constructive feedback you'd like to offer. This is an updated version of the kernel, after I did some debugging of some errors in use of PCA.\n# Feature Selection and Engineering\n\n\nFirst I'd like to examine the most promising columns of the data set to determine which features would most likely be relevant to prediction of conflicts, and convert them to workable formats.\n\nThe reference point I'll be using to ascertain the \"relevant\" features is to check the base rate of conflict: the prior probability of any variant having a conflicting classification is 25.21%. Comparing this rate to the rate of conflict among samples with a given value for a binary feature - which, as we'll see, are the predominant useable features in this dataset - should help illuminate which features will have predictive power. This isn't perfect, since of course some patterns may arise only among subsets of samples filtered by *multiple* features,  but if we retain enough features for our training set, such interactions will likely be revealed in the machine learning models themselves.\n\nOne very important lesson I learned far too late - if you're going to use cross-validation, split your data into the k folds *before* you select your features! This has been detailed before in sources such as [this one](https://github.com/mottalrd/cross-validation-done-wrong/blob/master/Cross%20Validation%20done%20wrong.ipynb), but it's actually an embarrassingly simple concept. If you choose your features based on their correlations with the classification variable in the entire dataset, or the distribution of that classification variable among samples of a given feature value in the entire dataset, then you're including information that will bias your model when you evaluate its performance on different folds of the training set! This consideration led me to exclude certain chromosome dummy variables whose conflict rate estimates became less significant when I corrected this potential source of bias."
    },
    {
      "metadata": {
        "trusted": true,
        "_uuid": "94ad33b053512c04873dfef24e1a081b6ef9c6cd"
      },
      "cell_type": "code",
      "source": "import numpy as np\nimport pandas as pd\nimport matplotlib.pyplot as plt\nimport warnings\nwarnings.filterwarnings('ignore') # A warning about F1 score appears every time recall for one\n                                  # class is 0; it's unnecessary to keep seeing this.\n\ndf = pd.read_csv('../input/clinvar_conflicting.csv', dtype={0: object, 38: str, 40: object})\nprint(df['CLASS'].describe())\ndf.head()",
      "execution_count": null,
      "outputs": []
    },
    {
      "metadata": {
        "_uuid": "c2213b491739b07057b2409c632c2586473d5961"
      },
      "cell_type": "markdown",
      "source": "(Credit to Kevin Arvai's EDA Kernel.) We convert the \"x/y\" format of EXON to an absolute value. In addition, I'm recoding this into a binary variable for exon status, since leaving exon number as a numerical variable would not be terribly enlightening. Since there are so many genes represented in this dataset, I restrict the dummy variables to those with a frequency of at least 1000 (here again, Kevin's kernel was helpful in providing a crosstab plot of conflict rate and frequency by gene). I also create dummy variables for IMPACT."
    },
    {
      "metadata": {
        "trusted": true,
        "_uuid": "f6785d8a549318a6e8698e00d3c2a28d389919e8"
      },
      "cell_type": "code",
      "source": "df.EXON.fillna('0', inplace=True)\ndf['variant_exon'] = df.EXON.apply(lambda x: 0 if x == '0' else 1)\n\ndummies = pd.get_dummies(df.SYMBOL)\ndf = pd.concat([df, dummies], axis=1)\n\ndummies = pd.get_dummies(df.IMPACT)\ndf = pd.concat([df, dummies], axis=1)\n\ndummies = pd.get_dummies(df.CHROM)\ndummies.columns = ['CHROM_' + str(col) for col in dummies.columns]\ndf = pd.concat([df, dummies], axis=1)\n\ndf.head()",
      "execution_count": null,
      "outputs": []
    },
    {
      "metadata": {
        "_uuid": "3800fa5d761d51c52cfc83f30ea5babfbde23660"
      },
      "cell_type": "markdown",
      "source": "The file lists the consequence of the variant in two forms, but 'Consequence' has more information. "
    },
    {
      "metadata": {
        "trusted": true,
        "_uuid": "43a3c44184761e79ae5340c0b03a499939ec6ed7"
      },
      "cell_type": "code",
      "source": "print(df['Consequence'].unique())\nprint(df['CLNVC'].unique())",
      "execution_count": null,
      "outputs": []
    },
    {
      "metadata": {
        "_uuid": "3fd0289914ef204297b53bdfd2063c9493cceebc"
      },
      "cell_type": "markdown",
      "source": "Examining the values of this column, we see that the consequences are separated by '&'.  We want to create dummy variables for each consequence, using similar methods as in Kevin Arvai's kernel. Let's do the same for CLNVC."
    },
    {
      "metadata": {
        "trusted": true,
        "_uuid": "fe41c336343b800edd2eb0ef8c4ecb0a0da5b7eb"
      },
      "cell_type": "code",
      "source": "Conseq_list = df.Consequence.dropna().str.split('&')\nCons_dummies = pd.get_dummies(Conseq_list.apply(pd.Series).stack()).sum(level=0)\nCons_dummies = Cons_dummies.reindex(index=Conseq_list.index)\ndf = df.join(Cons_dummies).drop(columns=['Consequence'])\n\nvar_list = df.CLNVC.dropna()\nvar_dummies = pd.get_dummies(var_list.apply(pd.Series).stack()).sum(level=0)\nvar_dummies = var_dummies.reindex(index=var_list.index)\ndf = df.join(var_dummies).drop(columns=['CLNVC'])\n\ndf.head()",
      "execution_count": null,
      "outputs": []
    },
    {
      "metadata": {
        "_uuid": "9b632f415a393c309f70bfc43f44c9bc165a00a7"
      },
      "cell_type": "markdown",
      "source": "Strangely enough, intron status is included in Consequence as well. Let's make a dummy variable for intron status to compare with this later. Also, while \"ORIGIN\" is numeric, the numbers are codes, so we'll need dummy variables for it too. I encode missing values as 0 because 0 originally refers to variants of unknown origin, so these should be comparable. Finally, we parse the Amino Acid column."
    },
    {
      "metadata": {
        "trusted": true,
        "_uuid": "aec72d5772034daff44d37d80a3c5ca185a5c5b2"
      },
      "cell_type": "code",
      "source": "df.INTRON.fillna('0', inplace=True)\ndf['variant_intron'] = df.INTRON.apply(lambda x: 0 if x == '0' else 1)\n\ndf.ORIGIN = df.ORIGIN.fillna(0)\ndummies = pd.get_dummies(df.ORIGIN)\ndummies.columns = ['ORIGIN_' + str(col) for col in dummies.columns]\ndf = pd.concat([df, dummies], axis=1)\n\ndummies = pd.get_dummies(df.Amino_acids)\ndummies.columns = [str(col) for col in dummies.columns]\ndf = pd.concat([df, dummies], axis=1)",
      "execution_count": null,
      "outputs": []
    },
    {
      "metadata": {
        "trusted": true,
        "_uuid": "fc35ecffdaec78682235f04095cddd42d7d6fd99"
      },
      "cell_type": "code",
      "source": "df.head()",
      "execution_count": null,
      "outputs": []
    },
    {
      "metadata": {
        "_uuid": "03b335ae9f02f4946e3692d690a49e6132c20c4b"
      },
      "cell_type": "markdown",
      "source": "Below, I first separate out the test set from training, then construct a list of 10 training and validation sets. The use of \"StratifiedKFold\" ensures the rate of conflict in each fold is approximately equal to the base rate, as confirmed below. "
    },
    {
      "metadata": {
        "trusted": true,
        "_uuid": "55cc36f3b820653f09ce2a0f9296ae7747295979"
      },
      "cell_type": "code",
      "source": "from sklearn.model_selection import StratifiedKFold\nfrom sklearn.model_selection import train_test_split\n\nX = df.drop('CLASS', axis=1)\ny = df['CLASS']\n\nX_train, X_test, y_train, y_test = train_test_split(\n    X, y, test_size=0.2, random_state=1, stratify=y)\n\nfolds = StratifiedKFold(n_splits = 10, random_state = 1337)\n\nX_train_sets = []\nX_val_sets = []\ny_train_sets = []\ny_val_sets = []\nfor train_index, val_index in folds.split(X_train,y_train):\n    X_train_sets.append(X_train.iloc[train_index,:])\n    y_train_sets.append(y_train.iloc[train_index])\n    X_val_sets.append(X_train.iloc[val_index,:])\n    y_val_sets.append(y_train.iloc[val_index])",
      "execution_count": null,
      "outputs": []
    },
    {
      "metadata": {
        "trusted": true,
        "scrolled": true,
        "_uuid": "86e28ca736f616170f64ad74230591b47372e257"
      },
      "cell_type": "code",
      "source": "print([np.mean(fold) for fold in y_train_sets])\nprint([np.mean(fold) for fold in y_val_sets])",
      "execution_count": null,
      "outputs": []
    },
    {
      "metadata": {
        "_uuid": "084c19c209fe43268392f579803d6859399c8b52"
      },
      "cell_type": "markdown",
      "source": "To determine the rate of conflicting classifications for variants where a column takes on a certain value, I constructed the following helper function. I apply this function to genes with a frequency of at least 652 (1% of the entire dataset), exon status, and the IMPACT variable. For the purposes of this analysis, if the aveage conflict rate across all 10 folds differs from the base rate by 3 percentage points or more, I'll consider it a feature worth including in the model testing process."
    },
    {
      "metadata": {
        "trusted": true,
        "_uuid": "7f25ea9bd6d47acb7b1a81830cc96b8f02f31fe1"
      },
      "cell_type": "code",
      "source": "def conflict_rate(col_name, value):\n    results = []\n    for fold_index in range(10):\n        data = X_train_sets[fold_index]\n        subset = data[col_name] == value\n        results.append(np.mean(y_train_sets[fold_index][subset]))\n    return np.mean(results), np.std(results)\n        \ndf.head()",
      "execution_count": null,
      "outputs": []
    },
    {
      "metadata": {
        "trusted": true,
        "_uuid": "9d817087c9472a1718941ce03cd5aed6ae69e1a6",
        "scrolled": true
      },
      "cell_type": "code",
      "source": "for i in list(df['SYMBOL'].value_counts().index.values):\n    if df['SYMBOL'].value_counts()[i] < 652:\n        break\n    print(i, str(conflict_rate('SYMBOL',i)))",
      "execution_count": null,
      "outputs": []
    },
    {
      "metadata": {
        "_uuid": "008f6984e2143f46002b2decaeab29445fe6c2a2"
      },
      "cell_type": "markdown",
      "source": "All of the high-frequency genes actually have skewed conflict rates.\n\nSince there are so many genes represented among these variants, it seems a shame to waste the data on the rarer genes. I construct a new variable that tells whether the given variant is in *any* of the genes with a conflict rate 3% above or below the base rate."
    },
    {
      "metadata": {
        "trusted": true,
        "_uuid": "2b349874581f6e40a01ac26a38689229589fd22e"
      },
      "cell_type": "code",
      "source": "high_gene = []\nlow_gene = []\n\nfor i in df['SYMBOL'].unique():\n    if conflict_rate('SYMBOL',i)[0] > 0.2821:\n        high_gene.append(i)\n    if conflict_rate('SYMBOL',i)[0] < 0.2221:\n        low_gene.append(i)",
      "execution_count": null,
      "outputs": []
    },
    {
      "metadata": {
        "trusted": true,
        "_uuid": "7899032e525bbfdbcac3154fe10bc2c1d357be31"
      },
      "cell_type": "code",
      "source": "for j in range(10):\n    X_train_sets[j]['HIGH_SYMBOL'] = X_train_sets[j]['SYMBOL'].isin(high_gene).apply(int)\n    X_train_sets[j]['LOW_SYMBOL'] = X_train_sets[j]['SYMBOL'].isin(low_gene).apply(int)\n    X_val_sets[j]['HIGH_SYMBOL'] = X_val_sets[j]['SYMBOL'].isin(high_gene).apply(int)\n    X_val_sets[j]['LOW_SYMBOL'] = X_val_sets[j]['SYMBOL'].isin(low_gene).apply(int)",
      "execution_count": null,
      "outputs": []
    },
    {
      "metadata": {
        "trusted": true,
        "_uuid": "3506ba9a88d117a94400fc277b9ae59aa46e20b8"
      },
      "cell_type": "code",
      "source": "print(conflict_rate('HIGH_SYMBOL',1))\nprint(conflict_rate('LOW_SYMBOL',1))",
      "execution_count": null,
      "outputs": []
    },
    {
      "metadata": {
        "trusted": true,
        "_uuid": "6c7f318091d58b4095db8f7eb7b52b5f489a4704"
      },
      "cell_type": "code",
      "source": "for j in range(10):\n    print(X_train_sets[j]['HIGH_SYMBOL'].value_counts())\n    print(X_train_sets[j]['LOW_SYMBOL'].value_counts())",
      "execution_count": null,
      "outputs": []
    },
    {
      "metadata": {
        "trusted": true,
        "_uuid": "88cf02bfbe04683436e2a079ebc0e676f1eb588d"
      },
      "cell_type": "code",
      "source": "print(conflict_rate('IMPACT','HIGH')) #very low\nprint(conflict_rate('IMPACT','MODERATE')) #close to average\nprint(conflict_rate('IMPACT','MODIFIER')) #close to average\nprint(conflict_rate('IMPACT','LOW')) #close to average\nprint(conflict_rate('variant_exon',0)) #close to average\nprint(conflict_rate('variant_exon',1)) #close to average",
      "execution_count": null,
      "outputs": []
    },
    {
      "metadata": {
        "_uuid": "a97d4080b461332b0bb74d9b14328aed98abbd7d"
      },
      "cell_type": "markdown",
      "source": "Unsurprisingly, we see that HIGH-IMPACT variants have a much lower rate of conflicting classification than the base. However, we also see that when the conflict rates of exons and introns are compared, they don't differ substantially. A natural next question is whether the number of HIGH-IMPACT variants is large enough that this different misclassification rate might make a significant difference. We see below that the number of HIGH-IMPACT variants is relatively low, but hardly negligible - 4752 out of 65188."
    },
    {
      "metadata": {
        "trusted": true,
        "_uuid": "f0a8dedc4254ba15cc3b8e5da0bc1a0e39b0a030"
      },
      "cell_type": "code",
      "source": "print(df['IMPACT'].value_counts())",
      "execution_count": null,
      "outputs": []
    },
    {
      "metadata": {
        "_uuid": "9ba24ee36f56d76124fd19dc7ad36a2b89c04463"
      },
      "cell_type": "markdown",
      "source": "Next let's check chromosomes."
    },
    {
      "metadata": {
        "trusted": true,
        "_uuid": "84f6cab7d3aed8e68854302617152b55837ea92d",
        "scrolled": true
      },
      "cell_type": "code",
      "source": "for i in df['CHROM'].unique():\n    print(i + \":\")\n    print(conflict_rate('CHROM',i))\n    print(sum(df['CHROM'] == i))\n    print(\"\\n\")",
      "execution_count": null,
      "outputs": []
    },
    {
      "metadata": {
        "_uuid": "af0a53001bf14f5823461909f83721dc14034421"
      },
      "cell_type": "markdown",
      "source": "For chromosome 2, this isn't an exceptional deviation, which shouldn't be surprising since the frequency of Chrom 2 among the variants is so high anyway - thus if Chrom 2 had a drastically large rate of conflicting classifications, the base rate of conflict probably wouldn't be very different unless every other chromosome had exceptionally low conflict rates.\n\nHowever, some of the rarer chromosome variants, we see, have significantly different conflict rates! Chromosomes 5, 7, 11, 13, 14, 15, 20, 21, 22, and MT (mitochondrial) stand out. MT is too rare to be worth including, but the rest may be useful predictors.\n\nLooking at the 'MC' crosstab from Kevin Arvai's kernel, 'intron_variant' seems to be promising. Let's check conflict rates for variants with and without each Consequence."
    },
    {
      "metadata": {
        "trusted": true,
        "_uuid": "3172d19728d472fb79ce938d23af71b80180dbae",
        "scrolled": false
      },
      "cell_type": "code",
      "source": "for i in list(df.columns.unique()[2401:2424]):\n    print(i + \":\")\n    print(\"\\t\" + str(conflict_rate(i,1)))\n    print(\"\\t\" + str(conflict_rate(i,0)))\n    print(\"\\t\" + str(np.sum(df[i] == 1)))\n    print(\"\\n\")",
      "execution_count": null,
      "outputs": []
    },
    {
      "metadata": {
        "_uuid": "0a17dff0988fb26d3a0cc4642bcd15c13df9672d"
      },
      "cell_type": "markdown",
      "source": "Here we see a very low conflict rate for \"frameshift_variant\" and \"stop_gained\", which are somewhat rare, but still have frequencies above 1000. More common are splice_region_variants, which have an abnormally high conflict rate.\n\nWhile SNVs dominate the CLNVC category, it might be worth checking if the rarer classes have skewed proportions of conflicts."
    },
    {
      "metadata": {
        "trusted": true,
        "_uuid": "600ad66b1f77c0a306a601872a7edb7187de50a9",
        "scrolled": true
      },
      "cell_type": "code",
      "source": "print(conflict_rate('single_nucleotide_variant',1)) #close to average\nprint(conflict_rate('Deletion',1)) #relatively low\nprint(np.sum(df['Deletion'] == 1))\nprint(conflict_rate('Duplication',1)) #slightly low\nprint(np.sum(df['Duplication'] == 1))",
      "execution_count": null,
      "outputs": []
    },
    {
      "metadata": {
        "_uuid": "6f786cd57228417d34a81f11d64fed7626f2884f"
      },
      "cell_type": "markdown",
      "source": "Based on these lower conflict rates and frequencies above 1000, Deletion and Duplication are worth including as features.\n\nWe see that intron variants, according to the Consequence column, have a slightly higher conflict rate (although this isn't so significant that it meets the threshold I've set). Why is it that the conflict rate we see for introns by this metric is so different from what we found in the EXON column? Let's examine our variant_intron dummy variable."
    },
    {
      "metadata": {
        "trusted": true,
        "_uuid": "ff3c5504777f24afea9a1d281868da617cba35a0"
      },
      "cell_type": "code",
      "source": "print(df[df['variant_exon'] == 0].shape)\nprint(df[df['variant_intron'] == 1].shape)\nprint(df[np.logical_and(df['variant_intron'] == 0, df['variant_exon'] == 0)].shape)\nprint(df[np.logical_and(df['intron_variant'] == 0, df['variant_exon'] == 0)].shape)\nprint(df[df['intron_variant'] == 0].shape)\nprint(df[np.logical_and(df['variant_intron'] == 1, df['variant_exon'] == 0)].shape)\nprint(df.shape)\nprint(df[df['intron_variant'] == 1].shape)",
      "execution_count": null,
      "outputs": []
    },
    {
      "metadata": {
        "_uuid": "c9735c929bda5f27c36e4eb245454b4ffab56151"
      },
      "cell_type": "markdown",
      "source": "More variants have non-missing data in the INTRON column than have \"1\" for a value in the intron_variant column. To get to the bottom of this, we have to examine the intersection of cases with \"0\" for variant_exon and \"1\" for variant_intron. This number is smaller than the number fulfilling either of these conditions separately, which is unexpected unless some variants are neither introns nor exons. Evidently at most 133 variants cannot be classified as either, based on the recoded EXON and INTRON columns, although some may simply be missing cases. Unfortunately, there's no CLNVC category for exons, so we can't do a direct comparison.\n\nThere are a lot more variants with missing EXON values *and* a \"0\" for intron_variant (as opposed to variant_intron, which was made from the INTRON column), so I'm inclined to think that every variant with non-missing INTRON data must actual be an intron, and it's more likely that the cases labeled 0 in intron_variant but 1 in INTRON are false negatives. So the conflict rate for variant_intron will be more useful:"
    },
    {
      "metadata": {
        "trusted": true,
        "_uuid": "7f73dd04fed3fefc4ebb5454bbf0da3d8dc8ad22"
      },
      "cell_type": "code",
      "source": "print(conflict_rate('variant_intron',1))\nprint(conflict_rate('variant_intron',0))",
      "execution_count": null,
      "outputs": []
    },
    {
      "metadata": {
        "trusted": true,
        "scrolled": true,
        "_uuid": "78e241e3262e51bb02c119c18444fbdd5be0dab2",
        "collapsed": true
      },
      "cell_type": "markdown",
      "source": "These tell basically the same story as the dummy variable for EXON status; it seems that the intron/exon distinction will not be a useful predictor of conflicts.\n\nFor SNVs, REF and ALT might be worth checking out, but alas we see that the conflict rates don't differ meaningfully between the nucleotides."
    },
    {
      "metadata": {
        "trusted": true,
        "scrolled": true,
        "_uuid": "9c75f77acacf3c02b41bc4ed2b5b8be4dafd83f5"
      },
      "cell_type": "code",
      "source": "print(conflict_rate('REF','A')) #about average\nprint(conflict_rate('REF','T')) #about average\nprint(conflict_rate('REF','G')) #about average     \nprint(conflict_rate('REF','C')) #about average\nprint(conflict_rate('ALT','A')) #about average\nprint(conflict_rate('ALT','T')) #about average\nprint(conflict_rate('ALT','G')) #about average     \nprint(conflict_rate('ALT','C')) #about average",
      "execution_count": null,
      "outputs": []
    },
    {
      "metadata": {
        "_uuid": "b8b20d21529265e090fbb16693c9e7d5ced49928"
      },
      "cell_type": "markdown",
      "source": "What about SIFT and PolyPhen?"
    },
    {
      "metadata": {
        "trusted": true,
        "_uuid": "916c7dc852f851bae45ac39dfa9dcddf1622f32a"
      },
      "cell_type": "code",
      "source": "print(conflict_rate('SIFT','tolerated_low_confidence')) #about average\nprint(conflict_rate('SIFT','deleterious_low_confidence')) #about average\nprint(conflict_rate('SIFT','tolerated')) #about average\nprint(conflict_rate('SIFT','deleterious')) #about average\n\nprint(conflict_rate('PolyPhen','benign')) #about average\nprint(conflict_rate('PolyPhen','probably_damaging')) #about average\nprint(conflict_rate('PolyPhen','possibly_damaging')) #about average",
      "execution_count": null,
      "outputs": []
    },
    {
      "metadata": {
        "_uuid": "19c4f183cc10d9ee8a446a9eddd64b33f1d138df"
      },
      "cell_type": "markdown",
      "source": "Nothing useful from either of these, alas. It's surprising that the low-confidence cases don't have a larger conflict rate; if anything, it's the opposite! But not enough that these features would be helpful in a model.\n\nKevin's kernel showed visually that allele frequencies were negatively correlated with classification conflict, but let's quantify this. First, I examine the distribution of the non-transformed allele frequency column in one of the test sets (as an example) versus log-transformed and min-max-scaled allele frequency."
    },
    {
      "metadata": {
        "trusted": true,
        "_uuid": "4a808775954659a9ef6a415d6353f7951243df20"
      },
      "cell_type": "code",
      "source": "from sklearn.preprocessing import MinMaxScaler\n\nscaler = MinMaxScaler()\n\nlogfreq = np.log(np.clip(X_train_sets[0]['AF_ESP'],1e-16, None))\nscaled_logfreq = scaler.fit_transform(logfreq.values.reshape(-1,1))\n\nplt.hist(X_train_sets[0]['AF_ESP'], bins = 100)\nplt.show()\n\nplt.hist(scaled_logfreq, bins = 100)\nplt.show()",
      "execution_count": null,
      "outputs": []
    },
    {
      "metadata": {
        "_uuid": "749d206f8442d391e1a124cbdd99c4195842788b"
      },
      "cell_type": "markdown",
      "source": "The log-transformed distribution is still very skewed, but plausibly this transformed feature may be more amenable to learning."
    },
    {
      "metadata": {
        "trusted": true,
        "_uuid": "d6b7c7427ca4f0249ecb283bed9fafcfeea52b3e"
      },
      "cell_type": "code",
      "source": "for j in range(10):\n    X_train_sets[j]['AF_ESP'] = np.log(np.clip(X_train_sets[j]['AF_ESP'],1e-16, None))\n    X_train_sets[j]['AF_ESP'] = scaler.fit_transform(X_train_sets[j]['AF_ESP'].values.reshape(-1,1))\n    X_train_sets[j]['AF_EXAC'] = np.log(np.clip(X_train_sets[j]['AF_EXAC'],1e-16, None))\n    X_train_sets[j]['AF_EXAC'] = scaler.fit_transform(X_train_sets[j]['AF_EXAC'].values.reshape(-1,1))\n    X_train_sets[j]['AF_TGP'] = np.log(np.clip(X_train_sets[j]['AF_TGP'],1e-16, None))\n    X_train_sets[j]['AF_TGP'] = scaler.fit_transform(X_train_sets[j]['AF_TGP'].values.reshape(-1,1))\n    X_val_sets[j]['AF_ESP'] = np.log(np.clip(X_val_sets[j]['AF_ESP'],1e-16, None))\n    X_val_sets[j]['AF_ESP'] = scaler.fit_transform(X_val_sets[j]['AF_ESP'].values.reshape(-1,1))\n    X_val_sets[j]['AF_EXAC'] = np.log(np.clip(X_val_sets[j]['AF_EXAC'],1e-16, None))\n    X_val_sets[j]['AF_EXAC'] = scaler.fit_transform(X_val_sets[j]['AF_EXAC'].values.reshape(-1,1))\n    X_val_sets[j]['AF_TGP'] = np.log(np.clip(X_val_sets[j]['AF_TGP'],1e-16, None))\n    X_val_sets[j]['AF_TGP'] = scaler.fit_transform(X_val_sets[j]['AF_TGP'].values.reshape(-1,1))\n    X_test['AF_TGP'] = np.log(np.clip(X_test['AF_TGP'],1e-16, None))\n    X_test['AF_TGP'] = scaler.fit_transform(X_test['AF_TGP'].values.reshape(-1,1))\n    data_y = y_train_sets[j]\n    print(np.corrcoef(data_y, X_train_sets[j]['AF_ESP']))\n    print(np.corrcoef(data_y, X_train_sets[j]['AF_EXAC']))\n    print(np.corrcoef(data_y, X_train_sets[j]['AF_TGP']))\n    print(\"\\n\")",
      "execution_count": null,
      "outputs": []
    },
    {
      "metadata": {
        "_uuid": "dcef6e959061e38399a929f66831fc2d2cd8120d"
      },
      "cell_type": "markdown",
      "source": "Now, what to make of the \"Indel\"/\"SNV\" dichotomy? In Kevin's kernel we saw that the length of REF or ALT could be used to classify variants as indels or SNVs. But we also see these two categories as dummy variables from CLNVC, and it turns out that not every variant is classified as one or the other in this set of columns. Rather, \"Indel\" is evidently used to mark variants that are either insertions or deletions, but *not* definitely known to be one or the other. Unfortunately, while we do indeed see that Indels are less likely to have conflicts than SNVs, they're exceptionally rare; almost all of the variants in the dataset are SNVs."
    },
    {
      "metadata": {
        "trusted": true,
        "_uuid": "38c017835a2b90000fb43ae50f0f7d500cb65406",
        "scrolled": true
      },
      "cell_type": "code",
      "source": "print(np.sum(df['Indel']))\nprint(np.sum(df['Insertion']))\nprint(np.sum(df['Deletion']))\nprint(np.sum(df['Indel']) + np.sum(df['single_nucleotide_variant']) +\n     np.sum(df['Insertion']) + np.sum(df['Deletion']))\nprint(df.shape)\nprint(df['Indel'].isnull().sum() + df['single_nucleotide_variant'].isnull().sum())\nprint(df[np.logical_and(df['Indel'] == 1, df['Deletion'] == 1)].shape)\nprint(df[np.logical_and(df['Indel'] == 1, df['Insertion'] == 1)].shape)\n\nprint(conflict_rate('Indel',1))\nprint(conflict_rate('single_nucleotide_variant',1))\nprint(conflict_rate('Insertion',1))",
      "execution_count": null,
      "outputs": []
    },
    {
      "metadata": {
        "trusted": true,
        "_uuid": "5133fcb3fd6059e32daa973a7ac03359d1a3ea30",
        "collapsed": true
      },
      "cell_type": "markdown",
      "source": "Next let's consider 'ORIGIN'. While this column is numeric, the numbers are codes, so we need dummy variables here."
    },
    {
      "metadata": {
        "trusted": true,
        "_uuid": "d7e3b0e1df38cf72c2503ddb005078647ea423c2",
        "scrolled": true
      },
      "cell_type": "code",
      "source": "for i in range(len(list(df['ORIGIN'].unique()))):\n    value = list(df['ORIGIN'].unique())[i]\n    print(str(value) + \":\")\n    print(conflict_rate('ORIGIN',value))\n    print(sum(df['ORIGIN'] == value))\n    print(\"\\n\")\n\ndf.head()",
      "execution_count": null,
      "outputs": []
    },
    {
      "metadata": {
        "_uuid": "c5e522c8a77657ade756e5b8a6d4d8c0e09ffaec"
      },
      "cell_type": "markdown",
      "source": "Given that the encoding of missing values as equivalent to unknown origin is reasonable, \"0\" is promising. Let's check Feature_type and BIOTYPE:"
    },
    {
      "metadata": {
        "trusted": true,
        "_uuid": "19d724f285ccd7bb6ea018435d2835feed6579d1"
      },
      "cell_type": "code",
      "source": "print(list(df['Feature_type'].unique()))\nprint(conflict_rate('Feature_type','Transcript'))\nprint(np.sum(df['Feature_type'] == 'Transcript'))\nprint(conflict_rate('Feature_type','MotifFeature'))\n\nprint(list(df['BIOTYPE'].unique()))\nprint(conflict_rate('BIOTYPE','protein_coding'))\nprint(np.sum(df['BIOTYPE'] == 'protein_coding'))\nprint(conflict_rate('BIOTYPE','misc_RNA'))\nprint(np.sum(df['BIOTYPE'] == 'misc_RNA'))",
      "execution_count": null,
      "outputs": []
    },
    {
      "metadata": {
        "_uuid": "c064d0ec03e763e3ecd1e9714bffb916456e468f"
      },
      "cell_type": "markdown",
      "source": "No such luck.\n\nNext we check amino acids. The only notable case (not exceptionally rare, yet the conflict rate is much different) is R/H. No notable patterns for STRAND."
    },
    {
      "metadata": {
        "trusted": true,
        "_uuid": "d69b60b605aefd807265161f71e83541f487358a"
      },
      "cell_type": "code",
      "source": "for i in list(df['Amino_acids'].value_counts().index.values):\n    if df['Amino_acids'].value_counts()[i] < 652:\n        break\n    print(i, str(conflict_rate('Amino_acids',i)))\n    print(df['Amino_acids'].value_counts()[i])\n\nprint(conflict_rate('STRAND',1))\nprint(conflict_rate('STRAND',-1))",
      "execution_count": null,
      "outputs": []
    },
    {
      "metadata": {
        "trusted": true,
        "_uuid": "ca3958f3119a4f4cb2f1c5fdd12477bcb43766bb"
      },
      "cell_type": "code",
      "source": "high_feature = []\nlow_feature = []\n\nfor i in df['Feature'].unique():\n    if conflict_rate('Feature',i)[0] > 0.2821:\n        high_feature.append(i)\n    if conflict_rate('Feature',i)[0] < 0.2221:\n        low_feature.append(i)",
      "execution_count": null,
      "outputs": []
    },
    {
      "metadata": {
        "trusted": true,
        "_uuid": "58179d5852a15a0d572d9e596166e3fd8ad3409b"
      },
      "cell_type": "code",
      "source": "for j in range(10):\n    X_train_sets[j]['HIGH_FEATURE'] = X_train_sets[j]['Feature'].isin(high_feature).apply(int)\n    X_train_sets[j]['LOW_FEATURE'] = X_train_sets[j]['Feature'].isin(low_feature).apply(int)\n    X_val_sets[j]['HIGH_FEATURE'] = X_val_sets[j]['Feature'].isin(high_feature).apply(int)\n    X_val_sets[j]['LOW_FEATURE'] = X_val_sets[j]['Feature'].isin(low_feature).apply(int)",
      "execution_count": null,
      "outputs": []
    },
    {
      "metadata": {
        "trusted": true,
        "_uuid": "7aa31408826306a22c3233dd9ae8140f048fdf9b"
      },
      "cell_type": "code",
      "source": "print(conflict_rate('HIGH_FEATURE',1))\nprint(conflict_rate('LOW_FEATURE',1))",
      "execution_count": null,
      "outputs": []
    },
    {
      "metadata": {
        "trusted": true,
        "_uuid": "7dfca23453b400617a6eb486f7fdbf09de6e4831"
      },
      "cell_type": "code",
      "source": "for j in range(10):\n    print(X_train_sets[j]['HIGH_FEATURE'].value_counts())\n    print(X_train_sets[j]['LOW_FEATURE'].value_counts())",
      "execution_count": null,
      "outputs": []
    },
    {
      "metadata": {
        "_uuid": "f68ba7a4abfa4a16bb9a3d9251f874e1ba0afa8c"
      },
      "cell_type": "markdown",
      "source": "**Summary of insights from EDA:**\n\n1) Unbalanced problem: prior probability of any variant having a conflicting classification is 25.21%.\n\n2) Introns and exons don't have appreciably different rates of conflicts.\n\n3) Chromosome-to-chromosome rates of conflict may differ from the base rate by as much as 6%.\n\n4) Gene-to-gene rates of conflict among some of the most common rates can differ from base rate by as much as 14% (!).\n\n5) Some relatively rare yet non-negligible Consequences, clinical variant classifications, and amino acids have significantly\ndeviant conflict rates.\n\n6) High-impact variants have a much lower conflict rate than the prior.\n\n7) Allele frequency is mildly negatively correlated with conflict in classification."
    },
    {
      "metadata": {
        "trusted": true,
        "_uuid": "c1bbd2758b6e7c4e203f196261e06b407b75e804"
      },
      "cell_type": "code",
      "source": "for i in range(10):\n    X_train_sets[i] = X_train_sets[i][['TTN', 'BRCA2', 'BRCA1',\n            'ATM','APC','MSH6','LDLR','PALB2','NF1','HIGH',\n           'CHROM_5', 'CHROM_7', 'CHROM_11', 'CHROM_13',\n           'CHROM_14', 'CHROM_15', 'CHROM_20',\n            'CHROM_21','CHROM_22', 'ORIGIN_0.0',\n           'stop_gained', 'splice_region_variant',\n           'frameshift_variant', 'Deletion', 'Duplication',\n           'AF_TGP','AF_EXAC','AF_ESP','R/Q','R/H','G',\n            'R/C','A/T','E/K','R/W','V/I','I/V','R/*',\n            'HIGH_SYMBOL','LOW_SYMBOL','HIGH_FEATURE','LOW_FEATURE']]\n    X_train_sets[i] = np.array(X_train_sets[i])",
      "execution_count": null,
      "outputs": []
    },
    {
      "metadata": {
        "trusted": true,
        "_uuid": "d1f83b9600aa29d69379e7452df4a65020e69069"
      },
      "cell_type": "code",
      "source": "for i in range(10):\n    y_train_sets[i] = np.array(y_train_sets[i])",
      "execution_count": null,
      "outputs": []
    },
    {
      "metadata": {
        "trusted": true,
        "_uuid": "5bdd6544436f83473253d1da0f0bf1b580c22cd5"
      },
      "cell_type": "code",
      "source": "for i in range(10):\n    X_val_sets[i] = X_val_sets[i][['TTN', 'BRCA2', 'BRCA1',\n            'ATM','APC','MSH6','LDLR','PALB2','NF1','HIGH',\n           'CHROM_5', 'CHROM_7', 'CHROM_11', 'CHROM_13',\n           'CHROM_14', 'CHROM_15', 'CHROM_20',\n            'CHROM_21','CHROM_22', 'ORIGIN_0.0',\n           'stop_gained', 'splice_region_variant',\n           'frameshift_variant', 'Deletion', 'Duplication',\n           'AF_TGP','AF_EXAC','AF_ESP','R/Q','R/H','G',\n            'R/C','A/T','E/K','R/W','V/I','I/V','R/*',\n            'HIGH_SYMBOL','LOW_SYMBOL','HIGH_FEATURE','LOW_FEATURE']]\n    X_val_sets[i] = np.array(X_val_sets[i])",
      "execution_count": null,
      "outputs": []
    },
    {
      "metadata": {
        "trusted": true,
        "_uuid": "710507be1da2018b07170d73b8d7e0422efdf8ab"
      },
      "cell_type": "code",
      "source": "for i in range(10):\n    y_val_sets[i] = np.array(y_val_sets[i])",
      "execution_count": null,
      "outputs": []
    },
    {
      "metadata": {
        "trusted": true,
        "_uuid": "c8dde87f399911d6868f6bb1ec7be62cb94c5254"
      },
      "cell_type": "code",
      "source": "X_test['HIGH_SYMBOL'] = X_test['SYMBOL'].isin(high_gene).apply(int)\nX_test['LOW_SYMBOL'] = X_test['SYMBOL'].isin(low_gene).apply(int)\nX_test['HIGH_FEATURE'] = X_test['Feature'].isin(high_feature).apply(int)\nX_test['LOW_FEATURE'] = X_test['Feature'].isin(low_feature).apply(int)\n\nX_test = X_test[['TTN', 'BRCA2', 'BRCA1',\n            'ATM','APC','MSH6','LDLR','PALB2','NF1','HIGH',\n           'CHROM_5', 'CHROM_7', 'CHROM_11', 'CHROM_13',\n           'CHROM_14', 'CHROM_15', 'CHROM_20',\n            'CHROM_21','CHROM_22', 'ORIGIN_0.0',\n           'stop_gained', 'splice_region_variant',\n           'frameshift_variant', 'Deletion', 'Duplication',\n           'AF_TGP','AF_EXAC','AF_ESP','R/Q','R/H','G',\n            'R/C','A/T','E/K','R/W','V/I','I/V','R/*',\n            'HIGH_SYMBOL','LOW_SYMBOL','HIGH_FEATURE','LOW_FEATURE']]\nX_test = np.array(X_test)\ny_test = np.array(y_test)",
      "execution_count": null,
      "outputs": []
    },
    {
      "metadata": {
        "trusted": true,
        "scrolled": true,
        "_uuid": "7a055454d4c29f53031b155e670369b7a46804b0",
        "collapsed": true
      },
      "cell_type": "markdown",
      "source": "Our feature matrix has all dummy variables except for allele frequency. First we verify that no imputation of missing values is required."
    },
    {
      "metadata": {
        "trusted": true,
        "_uuid": "bac871c9ae3a8ec715cfb583daca6542361447e6"
      },
      "cell_type": "code",
      "source": "for i in range(10):\n    print(sum(np.isnan(X_train_sets[i])))\n    print(sum(np.isnan(y_train_sets[i])))\n    print(sum(np.isnan(X_val_sets[i])))\n    print(sum(np.isnan(y_val_sets[i])))",
      "execution_count": null,
      "outputs": []
    },
    {
      "metadata": {
        "_uuid": "6e649243a74c0b1aa2b8f3bcf63f7a634d3945d4"
      },
      "cell_type": "markdown",
      "source": "All good. Fortunately, all the features are between 0 and 1 already, so feature scaling isn't necessary. Below I reformat the target value arrays such that the models will work on them."
    },
    {
      "metadata": {
        "trusted": true,
        "_uuid": "0ea369675050056e280da93dbfd6fccdecffdf3b"
      },
      "cell_type": "code",
      "source": "for i in range(10):\n    y_train_sets[i] = np.ravel(y_train_sets[i])\n    y_val_sets[i] = np.ravel(y_val_sets[i])\n\ny_test = np.ravel(y_test)",
      "execution_count": null,
      "outputs": []
    },
    {
      "metadata": {
        "_uuid": "e6f8e81bb0784f5244fc21e4b39073b6018f1617"
      },
      "cell_type": "markdown",
      "source": "Also, let's investigate the results of PCA on this set of features. As I'm new to PCA, my intuition is that using principal components for our models may come at the cost of interpretability, but we can still check which features are most strongly correlated with the PCs retained for the analysis."
    },
    {
      "metadata": {
        "trusted": true,
        "_uuid": "5a7e4f2e16f05fbf9c7e7ef2c7b2067145da4da5"
      },
      "cell_type": "code",
      "source": "from sklearn.decomposition import PCA\nfor i in range(10):\n    pca = PCA(n_components = None)\n    pca.fit(X_train_sets[i])\n    print(pca.explained_variance_ratio_)\n    print(np.cumsum(pca.explained_variance_ratio_))\n    print(\"\\n\")",
      "execution_count": null,
      "outputs": []
    },
    {
      "metadata": {
        "_uuid": "c65a6222438bcc9caf2921861ac2ee0ead9eb592"
      },
      "cell_type": "markdown",
      "source": "The first two PCs stand out, but they still only explains about 53% of variance. I will examine how performance varies with the number of PCs included in the analysis, separately for each model.\n\nNow I want to assess the performance of a variety of models, based on F1 score, which is evidently ideal for a binary imbalanced problem like this. I'll also examine the area under the ROC curve (AUC) for each model, although this evidently has limitations for imbalanced problems.\n\nBut what is the F1 score to beat in this case? At the very least, our model should outperform a prediction of \"no conflict\" for every variant."
    },
    {
      "metadata": {
        "trusted": true,
        "_uuid": "819cc0a3daeaa8828099a6294b8920d095eb1334"
      },
      "cell_type": "code",
      "source": "from sklearn.dummy import DummyClassifier\nfrom sklearn.metrics import classification_report, accuracy_score, f1_score, roc_auc_score\n\n\"\"\"\nThe following helper function returns the average F1 score and area under the ROC curve for\nthe given classifier's performance across the 10 folds. The \"search\" and \"use_pca\" arguments\nwill come into play when I try Randomized Search for hyperparameter tuning, as well as PCA.\n\"\"\"\n\ndef evaluate(classifier, search=False, use_pca=False):\n    scores = []\n    roc = []\n    param_sets = []\n    for i in range(10):\n        X = X_train_sets[i]\n        y = y_train_sets[i]\n        X_val = X_val_sets[i]\n        y_val = y_val_sets[i]\n        if use_pca == True:\n            X = pca.fit_transform(X)\n            X_val = pca.fit_transform(X_val)\n        classifier.fit(X, y)\n        val = classifier.predict(X_val)\n        scores.append(f1_score(y_val, val, average='weighted'))\n        roc.append(roc_auc_score(y_val, val, average='weighted'))\n        if search == True:\n            param_sets.append(classifier.best_params_)\n    return(np.mean(scores), np.mean(roc), param_sets)\n\nbase = DummyClassifier(strategy = 'most_frequent')\nevaluate(base)",
      "execution_count": null,
      "outputs": []
    },
    {
      "metadata": {
        "_uuid": "94f8cec8f231010d316449a3cc594490bc87faa0"
      },
      "cell_type": "markdown",
      "source": "This means that if a model can achieve an F1 score of no better than about 0.64, it's no improvement on a naive prediction rule based on the base rate of conflicts.\n\n# Logistic Regression\n\nThe logistic regression classifier's performance may vary based on the value of C (inverse of the regularization hyperparameter)."
    },
    {
      "metadata": {
        "trusted": true,
        "scrolled": false,
        "_uuid": "6548382275523a2d480de7e453a40570bf81a8b6",
        "_kg_hide-output": false
      },
      "cell_type": "code",
      "source": "from sklearn.linear_model import LogisticRegression\n\nmean_scores = []\nmean_roc = []\n\nC_vals = [10**k for k in range(-3,3)]\n\nfor j in C_vals:\n    lr = LogisticRegression(C=j, random_state=1337,\n                            solver = 'lbfgs')\n    mean_scores.append(evaluate(lr)[0])\n    mean_roc.append(evaluate(lr)[1])\n    \nprint(mean_scores)\nprint(mean_roc)\n\n# [0.6400306147844548, 0.6400306147844548, 0.6400665625355366, 0.6400571456896468, 0.6399836690743743, 0.6399930586282129]\n# [0.5, 0.5, 0.500025205587336, 0.5000123883609838, 0.49993591386823893, 0.4999487310945911]",
      "execution_count": null,
      "outputs": []
    },
    {
      "metadata": {
        "trusted": true,
        "_uuid": "572be26da75190a223cdba7c1cd34bef50793aa4"
      },
      "cell_type": "code",
      "source": "nums_pca = [3, 5, 10, 20]",
      "execution_count": null,
      "outputs": []
    },
    {
      "metadata": {
        "trusted": true,
        "_uuid": "657829012b8069a989817ffa091aee59223845e9"
      },
      "cell_type": "code",
      "source": "mean_scores = []\nmean_roc = []\n\nfor n in nums_pca:\n    pca = PCA(n_components = n)\n    lr = LogisticRegression(C=0.001, random_state=1337,\n                           solver = 'lbfgs')\n    mean_scores.append(evaluate(lr,use_pca=True)[0])\n    mean_roc.append(evaluate(lr,use_pca=True)[1])\n    \nprint(mean_scores)\nprint(mean_roc)",
      "execution_count": null,
      "outputs": []
    },
    {
      "metadata": {
        "_uuid": "7f8380750f1792f4bd91c14c764f30fe11a8fd65"
      },
      "cell_type": "markdown",
      "source": "The logistic regression algorithm seems to basically emulate the dummy classifier. PCA doesn't help.\n\n# Decision Trees\n\nHow will adjusting the hyperparameters of a decision tree affect performance? Here I try both Bayesian optimization and randomized search to tune the hyperparameters. Bayesian optimization searches for the best hyperparameters by using information from previously tested hyperparameters, rather than simply checking a random combination of hyperparameters from a given search space. We need to define an objective function to be minimized for this search method, so the natural choice is [1 - average F1 score across the 10 folds]."
    },
    {
      "metadata": {
        "trusted": true,
        "_uuid": "b3b2bc9d9ab998717c7601849e33637c571973b8"
      },
      "cell_type": "code",
      "source": "from hyperopt import hp, tpe, Trials, fmin, STATUS_OK\nfrom hyperopt.pyll.stochastic import sample\nfrom sklearn.tree import DecisionTreeClassifier\n\ndef objective_tree(hyperparameters):\n    for parameter_name in ['min_samples_split','min_samples_leaf']:\n        hyperparameters[parameter_name] = int(hyperparameters[parameter_name])\n        \n    model = DecisionTreeClassifier(**hyperparameters, random_state = 1337)\n    \n    score = evaluate(model)[0]\n    loss = 1 - score\n    \n    return {'loss': loss, 'hyperparameters': hyperparameters,\n            'status': STATUS_OK, 'score': score}\n        \nspace_tree = {\n    'criterion': hp.choice('criterion', ['gini', 'entropy']),\n    'splitter': hp.choice('splitter', ['best', 'random']),\n    'max_depth': hp.quniform('max_depth', 1, 38, 1),\n    'min_samples_split': hp.quniform('min_samples_split', 2,60,2),\n    'min_samples_leaf': hp.quniform('min_samples_leaf', 1,30,2),\n    'max_features': hp.choice('max_features', ['sqrt', 'log2', None]),\n}",
      "execution_count": null,
      "outputs": []
    },
    {
      "metadata": {
        "_uuid": "a96364fbbef4e513eb513064be04797d0d4e9a00"
      },
      "cell_type": "markdown",
      "source": "I apply the optimization algorithm to the decision tree, given the search space \"space_tree,\" and print the best hyperparameters. Note that for hyperparameters that are strings, \"fmin\" returns the indices of those strings in the lists I defined with \"hp.choice.\""
    },
    {
      "metadata": {
        "trusted": true,
        "_uuid": "f8adfec37c968853200e9ef4fa48da32143f0d8b",
        "scrolled": true
      },
      "cell_type": "code",
      "source": "trials = Trials()\n\nbest = fmin(objective_tree, space_tree, algo=tpe.suggest, max_evals=100,\n            trials = trials, rstate = np.random.RandomState(1337))\n\nprint(best)",
      "execution_count": null,
      "outputs": []
    },
    {
      "metadata": {
        "trusted": true,
        "_uuid": "b929bda123cd711dd5c6c26ff89153f61266d97f"
      },
      "cell_type": "code",
      "source": "tree = DecisionTreeClassifier(criterion = 'gini',\n                               max_depth = 10,\n                               max_features = None,\n                               min_samples_leaf = 8,\n                               min_samples_split = 14,\n                               splitter = 'best',\n                               random_state = 1337)\n\nevaluate(tree)\n\n# (0.7451884300842948, 0.6255220843318451, [])",
      "execution_count": null,
      "outputs": []
    },
    {
      "metadata": {
        "trusted": true,
        "_uuid": "6050b8d7222365d5005ce24dd57caf4a2f53d389"
      },
      "cell_type": "code",
      "source": "scores = [trials.results[i]['score'] for i in range(100)]\n\nplt.scatter(range(1,101), scores)\nplt.xlabel('Iteration')\nplt.ylabel('F1 Score')\nplt.show()",
      "execution_count": null,
      "outputs": []
    },
    {
      "metadata": {
        "_uuid": "2a5cad3567e1ec2410a0956890b4363855977b2e"
      },
      "cell_type": "markdown",
      "source": "This is miles ahead of the dummy classifier and logistic regression! I should note that these results are in stark contrast to those I observed before I included the HIGH_SYMBOL, LOW_SYMBOL, HIGH_FEATURE, and LOW_FEATURE features. This goes to show how far the right feature engineering can go when the fanciest algorithms seem to be failing. While this model fares much better than the baseline, as we can see from the scatterplot, the optimization process doesn't seem to be improving the F1 scores significantly."
    },
    {
      "metadata": {
        "trusted": true,
        "_uuid": "8c76dc48fc1d8b3cba02700b913af7411e419824"
      },
      "cell_type": "code",
      "source": "from sklearn.model_selection import RandomizedSearchCV",
      "execution_count": null,
      "outputs": []
    },
    {
      "metadata": {
        "trusted": true,
        "scrolled": true,
        "_uuid": "8fd52ceb7cfb38b5cb1b667e00f28bd98b47edef"
      },
      "cell_type": "code",
      "source": "max_features = [None, 'sqrt','log2']\nmin_samples_split = [2, 5, 8, 10, 20, 40, 60]\nmin_samples_leaf = [1, 2, 4, 10, 20, 30]\nmax_depth = range(5,39)\ncriterion = ['gini','entropy']\nsplitter = ['best','random']\n\nrandom_grid = {'max_depth': max_depth,\n               'max_features': max_features,\n               'min_samples_split': min_samples_split,\n               'min_samples_leaf': min_samples_leaf,\n               'criterion': criterion,\n               'splitter': splitter}\n\ntree = DecisionTreeClassifier(random_state = 1337)\n\ntree_random = RandomizedSearchCV(estimator = tree,\n            param_distributions = random_grid,\n            n_iter = 20, cv = 5, verbose=2,\n            random_state=1337, n_jobs = -1)",
      "execution_count": null,
      "outputs": []
    },
    {
      "metadata": {
        "trusted": true,
        "_uuid": "dd66ff0b267893e19cb3b278162f959fdb5abb84"
      },
      "cell_type": "code",
      "source": "evaluate(tree_random, search=True)\n\n\"\"\"\n(0.7354725283328227,\n 0.6081079683838219,\n [{'splitter': 'best',\n   'min_samples_split': 10,\n   'min_samples_leaf': 10,\n   'max_features': 'sqrt',\n   'max_depth': 30,\n   'criterion': 'entropy'},\n  {'splitter': 'best',\n   'min_samples_split': 5,\n   'min_samples_leaf': 10,\n   'max_features': 'sqrt',\n   'max_depth': 35,\n   'criterion': 'gini'},\n  {'splitter': 'best',\n   'min_samples_split': 10,\n   'min_samples_leaf': 10,\n   'max_features': 'sqrt',\n   'max_depth': 30,\n   'criterion': 'entropy'},\n  {'splitter': 'best',\n   'min_samples_split': 10,\n   'min_samples_leaf': 10,\n   'max_features': 'sqrt',\n   'max_depth': 30,\n   'criterion': 'entropy'},\n  {'splitter': 'best',\n   'min_samples_split': 8,\n   'min_samples_leaf': 30,\n   'max_features': 'sqrt',\n   'max_depth': 29,\n   'criterion': 'entropy'},\n  {'splitter': 'best',\n   'min_samples_split': 40,\n   'min_samples_leaf': 4,\n   'max_features': 'sqrt',\n   'max_depth': 37,\n   'criterion': 'entropy'},\n  {'splitter': 'best',\n   'min_samples_split': 8,\n   'min_samples_leaf': 30,\n   'max_features': 'sqrt',\n   'max_depth': 29,\n   'criterion': 'entropy'},\n  {'splitter': 'best',\n   'min_samples_split': 8,\n   'min_samples_leaf': 30,\n   'max_features': 'sqrt',\n   'max_depth': 29,\n   'criterion': 'entropy'},\n  {'splitter': 'best',\n   'min_samples_split': 5,\n   'min_samples_leaf': 10,\n   'max_features': 'sqrt',\n   'max_depth': 35,\n   'criterion': 'gini'},\n  {'splitter': 'best',\n   'min_samples_split': 8,\n   'min_samples_leaf': 30,\n   'max_features': 'sqrt',\n   'max_depth': 29,\n   'criterion': 'entropy'}])\n\"\"\"",
      "execution_count": null,
      "outputs": []
    },
    {
      "metadata": {
        "_uuid": "455102771df87dedad23049b69b63bf848f801e7"
      },
      "cell_type": "markdown",
      "source": "The randomized search tree is worse than the Bayesian-optimized one, which at least is a sign that Bayesian optimization is doing its job. Let's try the \"optimized\" parameters from the Bayesian method on our PCA-transformed folds."
    },
    {
      "metadata": {
        "trusted": true,
        "_uuid": "a9809828ace126ca9defcb96630be495a8912dd1"
      },
      "cell_type": "code",
      "source": "mean_scores = []\nmean_roc = []\n\ntree = DecisionTreeClassifier(criterion = 'gini',\n                               max_depth = 10,\n                               max_features = None,\n                               min_samples_leaf = 8,\n                               min_samples_split = 14,\n                               splitter = 'best',\n                               random_state = 1337)\n\nfor n in nums_pca:\n    pca = PCA(n_components = n)\n    mean_scores.append(evaluate(tree, use_pca = True)[0])\n    mean_roc.append(evaluate(tree, use_pca = True)[1])\n    \nprint(mean_scores)\nprint(mean_roc)\n\n# [0.7079295409357134, 0.7060316153950137, 0.687911303148617, 0.6929085669646577]\n# [0.5945664151449178, 0.5962103241099056, 0.5795035473571721, 0.5796663760671968]",
      "execution_count": null,
      "outputs": []
    },
    {
      "metadata": {
        "_uuid": "edd4ec069b282c54bffbb0893ce1b83e5085667c"
      },
      "cell_type": "markdown",
      "source": "Unfortunately, PCA does not improve performance.\n\nLet's try a Bayesian search with PCs - it's possible that these hyperparameters aren't optimal because they were derived from an analysis *without* PCA."
    },
    {
      "metadata": {
        "trusted": true,
        "_uuid": "0caf030b079d250c737d6a10934678e26ccb585d"
      },
      "cell_type": "code",
      "source": "pca = PCA(n_components = 3)\n\ndef objective_tree_pca(hyperparameters):\n    for parameter_name in ['min_samples_split','min_samples_leaf']:\n        hyperparameters[parameter_name] = int(hyperparameters[parameter_name])\n        \n    model = DecisionTreeClassifier(**hyperparameters, random_state = 1337)\n    \n    score = evaluate(model, use_pca = True)[0]\n    loss = 1 - score\n    \n    return {'loss': loss, 'hyperparameters': hyperparameters,\n            'status': STATUS_OK, 'score': score}\n        \nspace_tree_pca = {\n    'criterion': hp.choice('criterion', ['gini', 'entropy']),\n    'splitter': hp.choice('splitter', ['best', 'random']),\n    'max_depth': hp.quniform('max_depth', 1, 38, 1),\n    'min_samples_split': hp.quniform('min_samples_split', 2,60,2),\n    'min_samples_leaf': hp.quniform('min_samples_leaf', 1,30,2),\n    'max_features': hp.choice('max_features', ['sqrt', 'log2', None]),\n}",
      "execution_count": null,
      "outputs": []
    },
    {
      "metadata": {
        "trusted": true,
        "_uuid": "dc7b71f54a7afbc80d4e9373220d76cf75274e04"
      },
      "cell_type": "code",
      "source": "trials = Trials()\n\nbest = fmin(objective_tree_pca, space_tree_pca, algo=tpe.suggest, max_evals=20,\n            trials = trials, rstate = np.random.RandomState(1337))\n\nprint(best)",
      "execution_count": null,
      "outputs": []
    },
    {
      "metadata": {
        "trusted": true,
        "_uuid": "217acffd24292a711cf939f7f00ffdcdc402b353"
      },
      "cell_type": "code",
      "source": "tree = DecisionTreeClassifier(criterion = 'gini',\n                               max_depth = 14,\n                               max_features = None,\n                               min_samples_leaf = 28,\n                               min_samples_split = 28,\n                               splitter = 'best',\n                               random_state = 1337)\n\nevaluate(tree, use_pca = True)\n\n# (0.7158981294197934, 0.6043733286889215, [])",
      "execution_count": null,
      "outputs": []
    },
    {
      "metadata": {
        "_uuid": "8a0a363304bc451d46117c60efcbd971454bb9e9"
      },
      "cell_type": "markdown",
      "source": "Better, although still not as good as the best decision tree without PCA."
    },
    {
      "metadata": {
        "_uuid": "65f5d6dfd43bccbc8a7d738ea24a9b165cd8a71c"
      },
      "cell_type": "markdown",
      "source": "# K-Nearest Neighbors\n\nKNN classifiers are particularly subject to the curse of dimensionality, so I'll try PCA here."
    },
    {
      "metadata": {
        "trusted": true,
        "_uuid": "13ba378f5188bf42f621bec4b5d0bbe7aaab4da9"
      },
      "cell_type": "code",
      "source": "from sklearn.neighbors import KNeighborsClassifier",
      "execution_count": null,
      "outputs": []
    },
    {
      "metadata": {
        "trusted": true,
        "_uuid": "931551f2898cca22daefc526a3243464f4462fd3"
      },
      "cell_type": "code",
      "source": "pca = PCA(n_components = 3)\n\nmean_scores = []\nmean_roc = []\nkays = range(3,8)\n\nfor k in kays:\n    knn = KNeighborsClassifier(n_neighbors=k, \n                           p=2, metric='minkowski')\n    mean_scores.append(evaluate(knn, use_pca = True)[0])\n    mean_roc.append(evaluate(knn, use_pca = True)[1])",
      "execution_count": null,
      "outputs": []
    },
    {
      "metadata": {
        "trusted": true,
        "_uuid": "c4bbf48bbbccf01367aeebeb1d815a948d3eb376"
      },
      "cell_type": "code",
      "source": "print(mean_scores)\nprint(mean_roc)\n\n# [0.6985008656214247, 0.6921237746265237, 0.6836164859591516, 0.6917872861068209, 0.6923423518570587]\n# [0.5895092398891508, 0.5582714075330364, 0.5753057104798376, 0.5593956211510343, 0.5761970657842401]",
      "execution_count": null,
      "outputs": []
    },
    {
      "metadata": {
        "_uuid": "ca370a7aba093f5fcfb0a5a8c0a248cec1d04bba"
      },
      "cell_type": "markdown",
      "source": "This model would not be easy to interpret given the huge number of dimensions we have. None of the F1 scores or AUCs surpasses that of the best decision tree, although it's not a bad model.\n\n# Stochastic Gradient Descent Classifier"
    },
    {
      "metadata": {
        "trusted": true,
        "_uuid": "cf83e2008cf400fb853c860d43f3d41d6f9e4f24"
      },
      "cell_type": "code",
      "source": "from sklearn.linear_model import SGDClassifier\n\ndef objective_sgd(hyperparameters):\n    for parameter_name in ['alpha','l1_ratio']:\n        hyperparameters[parameter_name] = float(hyperparameters[parameter_name])\n\n    model = SGDClassifier(**hyperparameters, shuffle = False,\n                          n_jobs = -1, random_state = 1337)\n    \n    score = evaluate(model)[0]\n    loss = 1 - score\n    \n    return {'loss': loss, 'hyperparameters': hyperparameters,\n            'status': STATUS_OK, 'score': score}\n        \nspace_sgd = {\n    'loss': hp.choice('loss', ['log', 'hinge']),\n    'penalty': hp.choice('penalty', ['l1', 'l2']),\n    'alpha': hp.loguniform('alpha', np.log(0.0001),\n                                    np.log(0.1)),\n    'l1_ratio': hp.quniform('l1_ratio', 0.0, 1.0, 0.1),\n}",
      "execution_count": null,
      "outputs": []
    },
    {
      "metadata": {
        "trusted": true,
        "_uuid": "7c4158fa52be5f67373fc31a86d5398bc1ad308c"
      },
      "cell_type": "code",
      "source": "trials = Trials()\n\nbest = fmin(objective_sgd, space_sgd, algo=tpe.suggest, max_evals=50,\n            trials = trials, rstate = np.random.RandomState(1337))\n\nprint(best)\n\n# {'alpha': 0.0003075800442327615, 'l1_ratio': 0.0, 'loss': 0, 'penalty': 1}",
      "execution_count": null,
      "outputs": []
    },
    {
      "metadata": {
        "trusted": true,
        "_uuid": "e27390b4d2f95e7dc6765bcae93c14a32396bf1e"
      },
      "cell_type": "code",
      "source": "scores = [trials.results[i]['score'] for i in range(50)]\n\nplt.scatter(range(1,51), scores)\nplt.show()",
      "execution_count": null,
      "outputs": []
    },
    {
      "metadata": {
        "trusted": true,
        "_uuid": "770655b8e70c23f34c987f5fe68cfdeeeed984b6"
      },
      "cell_type": "code",
      "source": "sgd = SGDClassifier(alpha = 0.0003075800442327615,\n                    l1_ratio = 0.0, loss = 'log',\n                    penalty = 'l2', shuffle = False,\n                    n_jobs = -1, random_state = 1337)\n\nevaluate(sgd)",
      "execution_count": null,
      "outputs": []
    },
    {
      "metadata": {
        "trusted": true,
        "_uuid": "3926c2fd5060cbb43e2f161a9f39be123c77a21b"
      },
      "cell_type": "code",
      "source": "mean_scores = []\nmean_roc = []\n\nsgd = SGDClassifier(alpha = 0.0001543133712738374,\n                    l1_ratio = 1.0, loss = 'log',\n                    penalty = 'l1', shuffle = False,\n                    n_jobs = -1, random_state = 1337)\n\nfor n in nums_pca:\n    pca = PCA(n_components = n)\n    mean_scores.append(evaluate(sgd, use_pca = True)[0])\n    mean_roc.append(evaluate(sgd, use_pca = True)[1])\n    \nprint(mean_scores)\nprint(mean_roc)\n\n# [0.6400306147844548, 0.6510323586028245, 0.6577273095976571, 0.6673763711628204]\n# [0.5, 0.5068256298736168, 0.5136870162693423, 0.523999170417162]",
      "execution_count": null,
      "outputs": []
    },
    {
      "metadata": {
        "_uuid": "11be12da336e58f82c006f644afca06f0fe59d80"
      },
      "cell_type": "markdown",
      "source": "The stochatic gradient descent classifier doesn't come close to beating our best decision tree.\n\n# Random Forest\n\nUnfortunately random forests are something of a black box, but we can still inspect feature importances if this model succeeds. Attempting a Bayesian optimization search for the best number of estimators, keeping the best hyperparameters from our decision tree constant, was unsuccessful due to runtime limits. First let's just look at the best decision tree hyperparameters applied to an RF."
    },
    {
      "metadata": {
        "trusted": true,
        "_uuid": "0add323c6861038f45f048a89b86bd40e3eb2240"
      },
      "cell_type": "code",
      "source": "from sklearn.ensemble import RandomForestClassifier",
      "execution_count": null,
      "outputs": []
    },
    {
      "metadata": {
        "trusted": true,
        "scrolled": true,
        "_uuid": "fe76becef2244f0599daa5577c1f1e8e2d861ee2"
      },
      "cell_type": "code",
      "source": "rf = RandomForestClassifier(n_estimators = 20, random_state = 1337,\n                            criterion = 'gini',\n                            max_depth = 10,\n                            max_features = None,\n                            min_samples_leaf = 8,\n                            min_samples_split = 14,\n                            n_jobs = -1)\n\nevaluate(rf)\n\n# (0.7441793448895122, 0.6199220302462896, [])",
      "execution_count": null,
      "outputs": []
    },
    {
      "metadata": {
        "_uuid": "31582295db93aab7aee320acffa45011aea3be67"
      },
      "cell_type": "markdown",
      "source": "Almost as good as the best decision tree, but not quite. Let's try the default hyperparameters, with the exception of n_estimators."
    },
    {
      "metadata": {
        "trusted": true,
        "_uuid": "039be02cbc3c1182b26aaaf5e3ba8d8782ef74c4"
      },
      "cell_type": "code",
      "source": "rf = RandomForestClassifier(n_estimators = 20, random_state = 1337,\n                            n_jobs = -1)\n\nevaluate(rf)\n\n# (0.7316282555436648, 0.6103295171382959, [])",
      "execution_count": null,
      "outputs": []
    },
    {
      "metadata": {
        "_uuid": "402815313a1839babcb49626764c4cdad94d2a76"
      },
      "cell_type": "markdown",
      "source": "This is worse, alas, although impressive for a default. What if we try to optimize the same hyperparameters as we did for the decision tree? The runtime for this process is rather impractical, even with a GPU and with an upper bound of 10 iterations (at least for my machine). I limited the number of estimators to 10 for this."
    },
    {
      "metadata": {
        "trusted": true,
        "_uuid": "3911b4f56ec72816f109985fb49822396b981f14"
      },
      "cell_type": "code",
      "source": "def objective_rf(hyperparameters):\n    for parameter_name in ['min_samples_split','min_samples_leaf']:\n        hyperparameters[parameter_name] = int(hyperparameters[parameter_name])\n\n    model = RandomForestClassifier(**hyperparameters, n_estimators = 10,\n                                   n_jobs = -1, random_state = 1337)\n    \n    score = evaluate(model)[0]\n    loss = 1 - score\n    \n    return {'loss': loss, 'hyperparameters': hyperparameters,\n            'status': STATUS_OK, 'score': score}\n        \nspace_rf = {\n     'criterion': hp.choice('criterion', ['gini', 'entropy']),\n    'max_depth': hp.quniform('max_depth', 1, 38, 1),\n    'min_samples_split': hp.quniform('min_samples_split', 2,60,2),\n    'min_samples_leaf': hp.quniform('min_samples_leaf', 1,30,2),\n    'max_features': hp.choice('max_features', ['sqrt', 'log2', None])\n}",
      "execution_count": null,
      "outputs": []
    },
    {
      "metadata": {
        "trusted": true,
        "_uuid": "223195e6e64da2f53014e95217ddf5bdb33cbda3",
        "scrolled": false
      },
      "cell_type": "code",
      "source": "trials = Trials()\n\nbest = fmin(objective_rf, space_rf, algo=tpe.suggest, max_evals=10,\n            trials = trials, rstate = np.random.RandomState(1337))\n\nprint(best)\n\n# {'criterion': 1, 'max_depth': 11.0, 'max_features': 2,\n# 'min_samples_leaf': 16.0, 'min_samples_split': 26.0}\n",
      "execution_count": null,
      "outputs": []
    },
    {
      "metadata": {
        "trusted": true,
        "_uuid": "7f959b505b560e3dfd5c0db15553102ff9d9696f"
      },
      "cell_type": "code",
      "source": "rf = RandomForestClassifier(n_estimators = 10, random_state = 1337,\n                            n_jobs = -1, criterion = 'entropy',\n                           max_depth = 11, max_features = None,\n                           min_samples_leaf = 16, min_samples_split = 26)\n\nevaluate(rf)\n\n# (0.7460403119906623, 0.62293146426257, [])",
      "execution_count": null,
      "outputs": []
    },
    {
      "metadata": {
        "_uuid": "e03b33f8ef44b9123b374b79d7746f843c901a6a"
      },
      "cell_type": "markdown",
      "source": "Even with a modest number of trees, the Bayesian optimized random forest performs slightly better than the decision tree!"
    },
    {
      "metadata": {
        "trusted": true,
        "_uuid": "85edabbb066cd7fd090dac9e69c47a7f6c099efb"
      },
      "cell_type": "code",
      "source": "def objective_rf_pca(hyperparameters):\n    for parameter_name in ['min_samples_split','min_samples_leaf']:\n        hyperparameters[parameter_name] = int(hyperparameters[parameter_name])\n\n    model = RandomForestClassifier(**hyperparameters, n_estimators = 10,\n                                   n_jobs = -1, random_state = 1337)\n    \n    score = evaluate(model, use_pca = True)[0]\n    loss = 1 - score\n    \n    return {'loss': loss, 'hyperparameters': hyperparameters,\n            'status': STATUS_OK, 'score': score}\n        \nspace_rf_pca = {\n     'criterion': hp.choice('criterion', ['gini', 'entropy']),\n    'max_depth': hp.quniform('max_depth', 1, 38, 1),\n    'min_samples_split': hp.quniform('min_samples_split', 2,60,2),\n    'min_samples_leaf': hp.quniform('min_samples_leaf', 1,30,2),\n    'max_features': hp.choice('max_features', ['sqrt', 'log2', None])\n}",
      "execution_count": null,
      "outputs": []
    },
    {
      "metadata": {
        "trusted": true,
        "_uuid": "beabf0fb1755d4f5bed2e4a47f4a94e4fbca1c23"
      },
      "cell_type": "code",
      "source": "pca = PCA(n_components = 3)\n\ntrials = Trials()\n\nbest = fmin(objective_rf_pca, space_rf_pca, algo=tpe.suggest, max_evals=10,\n            trials = trials, rstate = np.random.RandomState(1337))\n\nprint(best)",
      "execution_count": null,
      "outputs": []
    },
    {
      "metadata": {
        "trusted": true,
        "_uuid": "431c20bf75b16065461fdc4952e4dfee65087ffd"
      },
      "cell_type": "code",
      "source": "rf = RandomForestClassifier(n_estimators = 10, random_state = 1337,\n                            n_jobs = -1, criterion = 'entropy',\n                           max_depth = 11, max_features = None,\n                           min_samples_leaf = 16, min_samples_split = 26)\n\nevaluate(rf, use_pca=True)\n\n# (0.7188045621044724, 0.6024729342981416, [])",
      "execution_count": null,
      "outputs": []
    },
    {
      "metadata": {
        "_uuid": "b4cd7161dcb0f90d2336ea305e0b952cdfe54cbe"
      },
      "cell_type": "markdown",
      "source": "Not bad, but still not in the league even of the default RF."
    },
    {
      "metadata": {
        "_uuid": "e26cc3bdfa32063d0e79dd03e05d6cd77f3a90c7"
      },
      "cell_type": "markdown",
      "source": "# Gradient Boosting"
    },
    {
      "metadata": {
        "trusted": true,
        "_uuid": "14f56558c89eddb09b62e507797cd407e0f7d85f"
      },
      "cell_type": "code",
      "source": "from sklearn.ensemble import GradientBoostingClassifier",
      "execution_count": null,
      "outputs": []
    },
    {
      "metadata": {
        "trusted": true,
        "_uuid": "867ab0b04f114ed74e03586febaed7c510365e38"
      },
      "cell_type": "code",
      "source": "gb = GradientBoostingClassifier(random_state = 1337,\n                            max_depth = 10,\n                            max_features = None,\n                            min_samples_leaf = 8,\n                            min_samples_split = 14,\n                            n_estimators = 20)\n\nevaluate(gb)",
      "execution_count": null,
      "outputs": []
    },
    {
      "metadata": {
        "trusted": true,
        "_uuid": "60a73d8c51a0473ccdb810adfb04e3c0a2bda897"
      },
      "cell_type": "code",
      "source": "gb = GradientBoostingClassifier(random_state = 1337,\n                            max_depth = 11,\n                            max_features = None,\n                            min_samples_leaf = 16,\n                            min_samples_split = 26,\n                            n_estimators = 20)\n\npca = PCA(n_components = 3)\n\nevaluate(gb, use_pca = True)",
      "execution_count": null,
      "outputs": []
    },
    {
      "metadata": {
        "_uuid": "bd0969f56388242668171499db6fddd80ff97301"
      },
      "cell_type": "markdown",
      "source": "Exploring the gradient boosting model in more depth would be ideal, but executing it just once with 20 estimators takes significant runtime. Considering the reputation of this algorithm, it would likely match if not surpass the best decision tree given a larger number of iterations to work with. Still,  it achieves a decent F1 score."
    },
    {
      "metadata": {
        "trusted": true,
        "_uuid": "9853b75f6f4250afeabe0b3ffbe0b8fe40b14936"
      },
      "cell_type": "code",
      "source": "def objective_gb_pca(hyperparameters):\n    for parameter_name in ['min_samples_split','min_samples_leaf']:\n        hyperparameters[parameter_name] = int(hyperparameters[parameter_name])\n\n    model = GradientBoostingClassifier(**hyperparameters, n_estimators = 20,\n                                   random_state = 1337)\n    \n    score = evaluate(model, use_pca = True)[0]\n    loss = 1 - score\n    \n    return {'loss': loss, 'hyperparameters': hyperparameters,\n            'status': STATUS_OK, 'score': score}\n        \nspace_gb_pca = {\n    'max_depth': hp.quniform('max_depth', 1, 38, 1),\n    'min_samples_split': hp.quniform('min_samples_split', 2,60,2),\n    'min_samples_leaf': hp.quniform('min_samples_leaf', 1,30,2),\n    'max_features': hp.choice('max_features', ['sqrt', 'log2', None])\n}",
      "execution_count": null,
      "outputs": []
    },
    {
      "metadata": {
        "trusted": true,
        "_uuid": "72d9075d74f51335c9d802b3bfec1c48ed30296d"
      },
      "cell_type": "code",
      "source": "pca = PCA(n_components = 3)\n\ntrials = Trials()\n\nbest = fmin(objective_gb_pca, space_gb_pca, algo=tpe.suggest, max_evals=10,\n            trials = trials, rstate = np.random.RandomState(1337))\n\nprint(best)",
      "execution_count": null,
      "outputs": []
    },
    {
      "metadata": {
        "trusted": true,
        "_uuid": "4382c105b3e77d154581d9958d852cecc89d16fb"
      },
      "cell_type": "code",
      "source": "gb = GradientBoostingClassifier(random_state = 1337,\n                            max_depth = 20,\n                            max_features = None,\n                            min_samples_leaf = 28,\n                            min_samples_split = 24,\n                            n_estimators = 50)\n\npca = PCA(n_components = 3)\n\nevaluate(gb, use_pca = True)",
      "execution_count": null,
      "outputs": []
    },
    {
      "metadata": {
        "_uuid": "3a117ed52aa93c63f3bfec40405622315e3cacd5"
      },
      "cell_type": "markdown",
      "source": "# Naive Bayes\n\nSince almost all of the features are binary, a Bernoulli Naive Bayes classifier might be well-suited to this problem. We'll need to binarize the allele frequencies - the threshold is a hyperparameter we can tune."
    },
    {
      "metadata": {
        "trusted": true,
        "_uuid": "93747fbf5dcc1217dd1a1b5cdb65746d75509cff"
      },
      "cell_type": "code",
      "source": "from sklearn.naive_bayes import BernoulliNB\n\ndef objective_nb(hyperparameters):\n    for parameter_name in ['alpha','binarize']:\n        hyperparameters[parameter_name] = float(hyperparameters[parameter_name])\n\n    model = BernoulliNB(**hyperparameters)\n    \n    score = evaluate(model)[0]\n    loss = 1 - score\n    \n    return {'loss': loss, 'hyperparameters': hyperparameters,\n            'status': STATUS_OK, 'score': score}\n        \nspace_nb = {\n    'alpha': hp.quniform('alpha', 0.0, 1.0, 0.1),\n    'binarize': hp.quniform('binarize', 0.1, 0.9, 0.1),\n}",
      "execution_count": null,
      "outputs": []
    },
    {
      "metadata": {
        "trusted": true,
        "_uuid": "3070043aff078c642ff76e5477928379aaa91312"
      },
      "cell_type": "code",
      "source": "trials = Trials()\n\nbest = fmin(objective_nb, space_nb, algo=tpe.suggest, max_evals=50,\n            trials = trials, rstate = np.random.RandomState(1337))\n\nprint(best)",
      "execution_count": null,
      "outputs": []
    },
    {
      "metadata": {
        "trusted": true,
        "_uuid": "3e7b5b7f323d3512b96a0bce76b1336aed198864"
      },
      "cell_type": "code",
      "source": "nb = BernoulliNB(alpha = 0.1, binarize = 0.9)\n\nevaluate(nb)\n\n# (0.7107953936780353, 0.6710188402129263, [])",
      "execution_count": null,
      "outputs": []
    },
    {
      "metadata": {
        "_uuid": "6f5cafcc22721ae3240fc6c9d978b0f90c61ddca"
      },
      "cell_type": "markdown",
      "source": "With very little computation time, the Naive Bayes classifier achieves a decent F1 score, but it's not comparable to the decision tree. Let's try PCA on this."
    },
    {
      "metadata": {
        "trusted": true,
        "_uuid": "0b3c3893bc7ff4c2260bfe85a0bfc7afd1dd5c49"
      },
      "cell_type": "code",
      "source": "mean_scores = []\nmean_roc = []\n\nnb = BernoulliNB(alpha = 1.0, binarize = 0.9)\n\nfor n in nums_pca:\n    pca = PCA(n_components = n)\n    mean_scores.append(evaluate(sgd, use_pca = True)[0])\n    mean_roc.append(evaluate(sgd, use_pca = True)[1])\n    \nprint(mean_scores)\nprint(mean_roc)",
      "execution_count": null,
      "outputs": []
    },
    {
      "metadata": {
        "trusted": true,
        "_uuid": "3ba4fd6b43fcde626564d448ca2e2e84c6ebf396"
      },
      "cell_type": "code",
      "source": "def objective_nb_pca(hyperparameters):\n    for parameter_name in ['alpha','binarize']:\n        hyperparameters[parameter_name] = float(hyperparameters[parameter_name])\n\n    model = BernoulliNB(**hyperparameters)\n    \n    score = evaluate(model, use_pca = True)[0]\n    loss = 1 - score\n    \n    return {'loss': loss, 'hyperparameters': hyperparameters,\n            'status': STATUS_OK, 'score': score}\n        \nspace_nb_pca = {\n    'alpha': hp.quniform('alpha', 0.0, 1.0, 0.1),\n    'binarize': hp.quniform('binarize', 0.1, 0.9, 0.1),\n}",
      "execution_count": null,
      "outputs": []
    },
    {
      "metadata": {
        "trusted": true,
        "_uuid": "1f667dca8dca10cb146d393da68e1145d21a5172"
      },
      "cell_type": "code",
      "source": "pca = PCA(n_components = 3)\n\ntrials = Trials()\n\nbest = fmin(objective_nb_pca, space_nb_pca, algo=tpe.suggest, max_evals=50,\n            trials = trials, rstate = np.random.RandomState(1337))\n\nprint(best)",
      "execution_count": null,
      "outputs": []
    },
    {
      "metadata": {
        "trusted": true,
        "_uuid": "b6d05cc5cd9d4f2d8b22b96a10efeb97fd348f2b"
      },
      "cell_type": "code",
      "source": "nb = BernoulliNB(alpha = 0.7000000000000001, binarize = 0.4)\n\nevaluate(nb, use_pca = True)",
      "execution_count": null,
      "outputs": []
    },
    {
      "metadata": {
        "_uuid": "cd9da692d25ef0dd3d6f2f4a0f684d371a0b1e0a"
      },
      "cell_type": "markdown",
      "source": "This doesn't help. Nonetheless, as a final analysis, we can see if an ensemble of our most promising models will surpass all of them.\n\n# Majority Vote Ensembles"
    },
    {
      "metadata": {
        "trusted": true,
        "_uuid": "c671a23006fba314f2d72f4928def33d7b0e3acd"
      },
      "cell_type": "code",
      "source": "from sklearn.ensemble import VotingClassifier\n\ntree = DecisionTreeClassifier(criterion = 'gini',\n                               max_depth = 10,\n                               max_features = None,\n                               min_samples_leaf = 8,\n                               min_samples_split = 14,\n                               splitter = 'best',\n                               random_state = 1337)\n\nnb = BernoulliNB(alpha = 0.1, binarize = 0.9)\n\nknn = KNeighborsClassifier(n_neighbors=3, \n                           p=2, metric='minkowski')",
      "execution_count": null,
      "outputs": []
    },
    {
      "metadata": {
        "trusted": true,
        "_uuid": "fdba0ccd4fb6e6fd160c284660ce4ea99eb3fbb9"
      },
      "cell_type": "code",
      "source": "majority = VotingClassifier(estimators=[('tree', tree),\n                            ('nb', nb), ('knn', knn)],\n                            voting='soft', weights=[2,1,1])\n\nevaluate(majority)\n\n# (0.745711670887099, 0.650576691374489, [])",
      "execution_count": null,
      "outputs": []
    },
    {
      "metadata": {
        "_uuid": "97ac459968552d225b54a17d70bd752c90f3dee7"
      },
      "cell_type": "markdown",
      "source": "The majority vote ensembles don't quite surpass the best random forest in terms of F1 score, although we see the best performance in terms of AUROC. Tinkering with weights for the votes revealed that performance increased most apparently when the decision tree was up-weighted - suggesting that these three models are probably failing on similar examples."
    },
    {
      "metadata": {
        "_uuid": "c9447e63097e5968c9d7e4cbc395662ded755b44"
      },
      "cell_type": "markdown",
      "source": "# Conclusions\n\nDespite facing some brick walls in the form of computation time for the hyperparameter optimization of our ensemble methods, this analysis has shown that some sizeable improvements upon the most basic prediction rule can be achieved, for the prediction of conflicting classifications of these variants. In updates of this kernel I'd like to examine the feature/PC importances more closely. However, based on the comparison of these results with those from iterations in which I did not include HIGH_SYMBOL, LOW_SYMBOL, HIGH_FEATURE, or LOW_FEATURE, it's evident that identifying the genes and feature IDs with either high or low conflict rates, and marking which variants include match any of such genes/feature IDs, can provide significant predictive power. I include these lists for reference: "
    },
    {
      "metadata": {
        "trusted": true,
        "_uuid": "e1d719489b9010fe49a40a3e794357b5ac031d82"
      },
      "cell_type": "code",
      "source": "print(high_feature, \"\\n\", low_feature, \"\\n\", high_gene, \"\\n\", low_gene)",
      "execution_count": null,
      "outputs": []
    },
    {
      "metadata": {
        "_uuid": "5ef267be796e1e3da547688410fc7026e15d10d3"
      },
      "cell_type": "markdown",
      "source": "Final score on the test set: 0.748! The cross-validation procedure was evidently conservative."
    },
    {
      "metadata": {
        "trusted": true,
        "_uuid": "3b164213ecb58812659326fddb0bb967b39985b4"
      },
      "cell_type": "code",
      "source": "rf = RandomForestClassifier(n_estimators = 10, random_state = 1337,\n                            n_jobs = -1, criterion = 'entropy',\n                           max_depth = 11, max_features = None,\n                           min_samples_leaf = 16, min_samples_split = 26)\n\npca = PCA(n_components = 3)\n\nrf.fit(X_train_sets[0], y_train_sets[0])\nprint(rf.score(X_test, y_test))",
      "execution_count": null,
      "outputs": []
    }
  ],
  "metadata": {
    "kernelspec": {
      "display_name": "Python 3",
      "language": "python",
      "name": "python3"
    },
    "language_info": {
      "name": "python",
      "version": "3.6.6",
      "mimetype": "text/x-python",
      "codemirror_mode": {
        "name": "ipython",
        "version": 3
      },
      "pygments_lexer": "ipython3",
      "nbconvert_exporter": "python",
      "file_extension": ".py"
    }
  },
  "nbformat": 4,
  "nbformat_minor": 1
}